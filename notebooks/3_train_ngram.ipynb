{
 "cells": [
  {
   "cell_type": "code",
   "execution_count": 2,
   "metadata": {},
   "outputs": [],
   "source": [
    "from collections import defaultdict, Counter\n",
    "import os\n",
    "import pandas as pd\n",
    "\n",
    "import sys\n",
    "\n",
    "module_path = os.path.abspath(os.path.join(\"..\"))\n",
    "if module_path not in sys.path:\n",
    "    sys.path.append(module_path)\n",
    "\n",
    "from service.lyrics_generator import NgramModel, UserModel"
   ]
  },
  {
   "cell_type": "markdown",
   "metadata": {},
   "source": [
    "## Train"
   ]
  },
  {
   "cell_type": "code",
   "execution_count": null,
   "metadata": {},
   "outputs": [],
   "source": [
    "features = [\"family\", \"subfamily\", \"ingredients\", \"gender\"]\n",
    "\n",
    "N = 3\n",
    "\n",
    "for feature in features:\n",
    "  directory = f'../data/{feature}'\n",
    "\n",
    "  for filename in os.listdir(directory):\n",
    "      file_path = os.path.join(directory, filename)\n",
    "\n",
    "      if filename.endswith(\".csv\"):\n",
    "          df = pd.read_csv(file_path)\n",
    "          df = df.dropna()\n",
    "          feature_value = os.path.splitext(filename)[0]\n",
    "          documents = df['description']\n",
    "          model = NgramModel(N, documents=documents)\n",
    "          model.to_pickle(feature, feature_value)"
   ]
  },
  {
   "cell_type": "markdown",
   "metadata": {},
   "source": [
    "## Generation"
   ]
  },
  {
   "cell_type": "code",
   "execution_count": 7,
   "metadata": {},
   "outputs": [],
   "source": [
    "user_model = UserModel({'gender': ['Male'], 'family': ['FLORAL']}, {'gender': 100, 'family': 100})"
   ]
  },
  {
   "cell_type": "code",
   "execution_count": 8,
   "metadata": {},
   "outputs": [
    {
     "name": "stdout",
     "output_type": "stream",
     "text": [
      "start generation\n",
      "generation done\n"
     ]
    },
    {
     "data": {
      "text/plain": [
       "'This perfume gives you a juicy freshness enhancing the beauty of a perfectly balanced , modern aromatics , the air and life for the challenge . Kind of Blue by Superdry , is brought to life after heavy rainfall . Fall into the air . An elegant accord imbued with a never ending summer . Precious and rate , perfume has been created for the sparkling pearl . Cuba Wild Heart was launched in 2012 , Stephane Humbert Lucas Paris connects with their children . The strong spicy notes then blossoms into an elixir based on a few beers .'"
      ]
     },
     "execution_count": 8,
     "metadata": {},
     "output_type": "execute_result"
    }
   ],
   "source": [
    "user_model.generate_text(100)"
   ]
  }
 ],
 "metadata": {
  "kernelspec": {
   "display_name": "fragrance-data-test",
   "language": "python",
   "name": "python3"
  },
  "language_info": {
   "codemirror_mode": {
    "name": "ipython",
    "version": 3
   },
   "file_extension": ".py",
   "mimetype": "text/x-python",
   "name": "python",
   "nbconvert_exporter": "python",
   "pygments_lexer": "ipython3",
   "version": "3.12.0"
  }
 },
 "nbformat": 4,
 "nbformat_minor": 2
}
