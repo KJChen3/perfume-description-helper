{
 "cells": [
  {
   "cell_type": "code",
   "execution_count": 1,
   "metadata": {},
   "outputs": [
    {
     "name": "stderr",
     "output_type": "stream",
     "text": [
      "[nltk_data] Downloading package stopwords to /Users/uyny/nltk_data...\n",
      "[nltk_data]   Package stopwords is already up-to-date!\n"
     ]
    }
   ],
   "source": [
    "from collections import defaultdict, Counter\n",
    "import os\n",
    "import pandas as pd\n",
    "\n",
    "import sys\n",
    "\n",
    "module_path = os.path.abspath(os.path.join(\"..\"))\n",
    "if module_path not in sys.path:\n",
    "    sys.path.append(module_path)\n",
    "\n",
    "from service.lyrics_generator import NgramModel, UserModel"
   ]
  },
  {
   "cell_type": "markdown",
   "metadata": {},
   "source": [
    "## Train"
   ]
  },
  {
   "cell_type": "code",
   "execution_count": 2,
   "metadata": {},
   "outputs": [],
   "source": [
    "features = [\"family\", \"subfamily\", \"ingredients\", \"gender\"]\n",
    "\n",
    "N = 3\n",
    "\n",
    "for feature in features:\n",
    "  directory = f'../data/{feature}'\n",
    "\n",
    "  for filename in os.listdir(directory):\n",
    "      file_path = os.path.join(directory, filename)\n",
    "\n",
    "      if filename.endswith(\".csv\"):\n",
    "          df = pd.read_csv(file_path)\n",
    "          df = df.dropna()\n",
    "          feature_value = os.path.splitext(filename)[0]\n",
    "          documents = df['description']\n",
    "          names= df['name']\n",
    "          model = NgramModel(N, documents=documents, names=names)\n",
    "          model.to_pickle(feature, feature_value)"
   ]
  },
  {
   "cell_type": "code",
   "execution_count": null,
   "metadata": {},
   "outputs": [],
   "source": []
  },
  {
   "cell_type": "code",
   "execution_count": null,
   "metadata": {},
   "outputs": [],
   "source": []
  },
  {
   "cell_type": "code",
   "execution_count": null,
   "metadata": {},
   "outputs": [],
   "source": []
  },
  {
   "cell_type": "markdown",
   "metadata": {},
   "source": [
    "## Generation"
   ]
  },
  {
   "cell_type": "code",
   "execution_count": 3,
   "metadata": {},
   "outputs": [],
   "source": [
    "user_model = UserModel({'gender': ['Male'], 'family': ['FLORAL']}, {'gender': 100, 'family': 100})"
   ]
  },
  {
   "cell_type": "code",
   "execution_count": 11,
   "metadata": {},
   "outputs": [
    {
     "name": "stdout",
     "output_type": "stream",
     "text": [
      "start generation\n",
      "generation done\n"
     ]
    },
    {
     "data": {
      "text/plain": [
       "\"First . The Almaz evokes a trip to the elegant , timeless beauty , taste the tangy freshness , and the aura and breathtaking presence . Confident . Winter Vacation] tells of courage , and if there was light , and comfortable ease with the floral world and your body tingles . Oui à l'Amour perfume is to laugh at ourselve . Laboratorio Olfattivo Winter Vacation] . Eau du Ventoux for Her gives each wearer to dream with its delicate and light , rising up above the sea spray on your skin . A powerful yet refreshing accords . The story could\""
      ]
     },
     "execution_count": 11,
     "metadata": {},
     "output_type": "execute_result"
    }
   ],
   "source": [
    "user_model.generate_text(100,\"Winter Vacation]\")"
   ]
  }
 ],
 "metadata": {
  "kernelspec": {
   "display_name": "Python 3",
   "language": "python",
   "name": "python3"
  },
  "language_info": {
   "codemirror_mode": {
    "name": "ipython",
    "version": 3
   },
   "file_extension": ".py",
   "mimetype": "text/x-python",
   "name": "python",
   "nbconvert_exporter": "python",
   "pygments_lexer": "ipython3",
   "version": "3.12.6"
  }
 },
 "nbformat": 4,
 "nbformat_minor": 2
}
